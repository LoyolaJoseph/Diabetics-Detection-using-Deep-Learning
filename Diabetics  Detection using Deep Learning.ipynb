{
 "cells": [
  {
   "cell_type": "code",
   "execution_count": null,
   "metadata": {},
   "outputs": [],
   "source": [
    "#Datset\n",
    "'''\n",
    "   1. Number of times pregnant\n",
    "   2. Plasma glucose concentration a 2 hours in an oral glucose tolerance test\n",
    "   3. Diastolic blood pressure (mm Hg)\n",
    "   4. Triceps skin fold thickness (mm)\n",
    "   5. 2-Hour serum insulin (mu U/ml)\n",
    "   6. Body mass index (weight in kg/(height in m)^2)\n",
    "   7. Diabetes pedigree function\n",
    "   8. Age (years)\n",
    "   9. Class variable (0 or 1)\n",
    "'''"
   ]
  },
  {
   "cell_type": "code",
   "execution_count": 1,
   "metadata": {},
   "outputs": [],
   "source": [
    "from numpy import loadtxt #handle/load dataset\n",
    "\n",
    "from keras.models import Sequential #Empty working area \n",
    "from keras.layers import Dense #Dense layer \n",
    "from keras.models import model_from_json"
   ]
  },
  {
   "cell_type": "code",
   "execution_count": null,
   "metadata": {},
   "outputs": [],
   "source": [
    "#training"
   ]
  },
  {
   "cell_type": "code",
   "execution_count": 3,
   "metadata": {},
   "outputs": [
    {
     "name": "stdout",
     "output_type": "stream",
     "text": [
      "[[  6.    148.     72.    ...  33.6     0.627  50.   ]\n",
      " [  1.     85.     66.    ...  26.6     0.351  31.   ]\n",
      " [  8.    183.     64.    ...  23.3     0.672  32.   ]\n",
      " ...\n",
      " [  5.    121.     72.    ...  26.2     0.245  30.   ]\n",
      " [  1.    126.     60.    ...  30.1     0.349  47.   ]\n",
      " [  1.     93.     70.    ...  30.4     0.315  23.   ]]\n"
     ]
    }
   ],
   "source": [
    "dataset = loadtxt('C:/Users/91959/OneDrive/Desktop/Pypro (1)/28_IntroductiontoDeepLearning_DiabetesDetection/Code/pima-indians-diabetes.csv', delimiter=',')\n",
    "x = dataset[:,0:8]\n",
    "y = dataset[:,8]\n",
    "print(x)\n"
   ]
  },
  {
   "cell_type": "code",
   "execution_count": 4,
   "metadata": {},
   "outputs": [],
   "source": [
    "model = Sequential()\n",
    "model.add(Dense(12, input_dim=8, activation='relu'))\n",
    "model.add(Dense(8, activation='relu'))\n",
    "model.add(Dense(1, activation='sigmoid'))"
   ]
  },
  {
   "cell_type": "code",
   "execution_count": 12,
   "metadata": {},
   "outputs": [
    {
     "name": "stdout",
     "output_type": "stream",
     "text": [
      "Epoch 1/50\n",
      "77/77 [==============================] - 2s 3ms/step - loss: 0.5335 - accuracy: 0.7292\n",
      "Epoch 2/50\n",
      "77/77 [==============================] - 0s 3ms/step - loss: 0.5333 - accuracy: 0.7331\n",
      "Epoch 3/50\n",
      "77/77 [==============================] - 0s 2ms/step - loss: 0.5237 - accuracy: 0.7513\n",
      "Epoch 4/50\n",
      "77/77 [==============================] - 0s 3ms/step - loss: 0.5364 - accuracy: 0.7500\n",
      "Epoch 5/50\n",
      "77/77 [==============================] - 0s 3ms/step - loss: 0.5272 - accuracy: 0.7422\n",
      "Epoch 6/50\n",
      "77/77 [==============================] - 0s 3ms/step - loss: 0.5530 - accuracy: 0.7422\n",
      "Epoch 7/50\n",
      "77/77 [==============================] - 0s 3ms/step - loss: 0.5296 - accuracy: 0.7474\n",
      "Epoch 8/50\n",
      "77/77 [==============================] - 0s 3ms/step - loss: 0.5319 - accuracy: 0.7253\n",
      "Epoch 9/50\n",
      "77/77 [==============================] - 0s 3ms/step - loss: 0.5180 - accuracy: 0.7448\n",
      "Epoch 10/50\n",
      "77/77 [==============================] - 0s 3ms/step - loss: 0.5159 - accuracy: 0.7513\n",
      "Epoch 11/50\n",
      "77/77 [==============================] - 0s 3ms/step - loss: 0.5293 - accuracy: 0.7357\n",
      "Epoch 12/50\n",
      "77/77 [==============================] - 0s 3ms/step - loss: 0.5383 - accuracy: 0.7292\n",
      "Epoch 13/50\n",
      "77/77 [==============================] - 0s 3ms/step - loss: 0.5227 - accuracy: 0.7487\n",
      "Epoch 14/50\n",
      "77/77 [==============================] - 0s 3ms/step - loss: 0.5494 - accuracy: 0.7305\n",
      "Epoch 15/50\n",
      "77/77 [==============================] - 0s 3ms/step - loss: 0.5613 - accuracy: 0.7174\n",
      "Epoch 16/50\n",
      "77/77 [==============================] - 0s 3ms/step - loss: 0.5174 - accuracy: 0.7435\n",
      "Epoch 17/50\n",
      "77/77 [==============================] - 0s 4ms/step - loss: 0.5220 - accuracy: 0.7448\n",
      "Epoch 18/50\n",
      "77/77 [==============================] - 0s 3ms/step - loss: 0.5273 - accuracy: 0.7513\n",
      "Epoch 19/50\n",
      "77/77 [==============================] - 0s 3ms/step - loss: 0.5287 - accuracy: 0.7474\n",
      "Epoch 20/50\n",
      "77/77 [==============================] - 0s 3ms/step - loss: 0.5080 - accuracy: 0.7500\n",
      "Epoch 21/50\n",
      "77/77 [==============================] - 0s 3ms/step - loss: 0.5128 - accuracy: 0.7552\n",
      "Epoch 22/50\n",
      "77/77 [==============================] - 0s 3ms/step - loss: 0.5275 - accuracy: 0.7565\n",
      "Epoch 23/50\n",
      "77/77 [==============================] - 0s 3ms/step - loss: 0.5283 - accuracy: 0.7435\n",
      "Epoch 24/50\n",
      "77/77 [==============================] - 0s 3ms/step - loss: 0.5149 - accuracy: 0.7461\n",
      "Epoch 25/50\n",
      "77/77 [==============================] - 0s 4ms/step - loss: 0.5106 - accuracy: 0.7565\n",
      "Epoch 26/50\n",
      "77/77 [==============================] - 0s 3ms/step - loss: 0.5192 - accuracy: 0.7448\n",
      "Epoch 27/50\n",
      "77/77 [==============================] - 0s 4ms/step - loss: 0.5133 - accuracy: 0.7487\n",
      "Epoch 28/50\n",
      "77/77 [==============================] - 0s 3ms/step - loss: 0.5301 - accuracy: 0.7331\n",
      "Epoch 29/50\n",
      "77/77 [==============================] - 0s 3ms/step - loss: 0.5174 - accuracy: 0.7526\n",
      "Epoch 30/50\n",
      "77/77 [==============================] - 0s 3ms/step - loss: 0.5497 - accuracy: 0.7305\n",
      "Epoch 31/50\n",
      "77/77 [==============================] - 0s 3ms/step - loss: 0.5023 - accuracy: 0.7526\n",
      "Epoch 32/50\n",
      "77/77 [==============================] - 0s 3ms/step - loss: 0.5089 - accuracy: 0.7500\n",
      "Epoch 33/50\n",
      "77/77 [==============================] - 0s 3ms/step - loss: 0.5031 - accuracy: 0.7721\n",
      "Epoch 34/50\n",
      "77/77 [==============================] - 0s 3ms/step - loss: 0.5249 - accuracy: 0.7565\n",
      "Epoch 35/50\n",
      "77/77 [==============================] - 0s 3ms/step - loss: 0.5037 - accuracy: 0.7630\n",
      "Epoch 36/50\n",
      "77/77 [==============================] - 0s 4ms/step - loss: 0.5122 - accuracy: 0.7539\n",
      "Epoch 37/50\n",
      "77/77 [==============================] - 0s 3ms/step - loss: 0.5224 - accuracy: 0.7435\n",
      "Epoch 38/50\n",
      "77/77 [==============================] - 0s 3ms/step - loss: 0.5230 - accuracy: 0.7409\n",
      "Epoch 39/50\n",
      "77/77 [==============================] - 0s 4ms/step - loss: 0.4999 - accuracy: 0.7526\n",
      "Epoch 40/50\n",
      "77/77 [==============================] - 0s 3ms/step - loss: 0.5041 - accuracy: 0.7643\n",
      "Epoch 41/50\n",
      "77/77 [==============================] - 0s 3ms/step - loss: 0.5160 - accuracy: 0.7500\n",
      "Epoch 42/50\n",
      "77/77 [==============================] - 0s 4ms/step - loss: 0.5202 - accuracy: 0.7487\n",
      "Epoch 43/50\n",
      "77/77 [==============================] - 0s 3ms/step - loss: 0.5161 - accuracy: 0.7487\n",
      "Epoch 44/50\n",
      "77/77 [==============================] - 0s 3ms/step - loss: 0.5100 - accuracy: 0.7552\n",
      "Epoch 45/50\n",
      "77/77 [==============================] - 0s 3ms/step - loss: 0.5004 - accuracy: 0.7552\n",
      "Epoch 46/50\n",
      "77/77 [==============================] - 0s 4ms/step - loss: 0.5073 - accuracy: 0.7604\n",
      "Epoch 47/50\n",
      "77/77 [==============================] - 0s 3ms/step - loss: 0.5083 - accuracy: 0.7474\n",
      "Epoch 48/50\n",
      "77/77 [==============================] - 0s 3ms/step - loss: 0.4981 - accuracy: 0.7539\n",
      "Epoch 49/50\n",
      "77/77 [==============================] - 0s 3ms/step - loss: 0.5068 - accuracy: 0.7474\n",
      "Epoch 50/50\n",
      "77/77 [==============================] - 0s 3ms/step - loss: 0.4995 - accuracy: 0.7578\n"
     ]
    },
    {
     "data": {
      "text/plain": [
       "<keras.src.callbacks.History at 0x1b0287efd60>"
      ]
     },
     "execution_count": 12,
     "metadata": {},
     "output_type": "execute_result"
    }
   ],
   "source": [
    "model.compile(loss='binary_crossentropy', optimizer='adam', metrics=['accuracy'])\n",
    "model.fit(x, y, epochs=50, batch_size=10)"
   ]
  },
  {
   "cell_type": "code",
   "execution_count": 13,
   "metadata": {},
   "outputs": [
    {
     "name": "stdout",
     "output_type": "stream",
     "text": [
      "24/24 [==============================] - 0s 3ms/step - loss: 0.4958 - accuracy: 0.7682\n",
      "Accuracy: 76.82\n"
     ]
    }
   ],
   "source": [
    "_, accuracy = model.evaluate(x, y)\n",
    "print('Accuracy: %.2f' % (accuracy*100))"
   ]
  },
  {
   "cell_type": "code",
   "execution_count": 14,
   "metadata": {},
   "outputs": [
    {
     "name": "stdout",
     "output_type": "stream",
     "text": [
      "Saved model to disk\n"
     ]
    }
   ],
   "source": [
    "model_json = model.to_json()\n",
    "with open(\"model.json\", \"w\") as json_file:\n",
    "    json_file.write(model_json)\n",
    "model.save_weights(\"model.h5\")\n",
    "print(\"Saved model to disk\")\n"
   ]
  },
  {
   "cell_type": "code",
   "execution_count": 10,
   "metadata": {},
   "outputs": [],
   "source": [
    "#testing"
   ]
  },
  {
   "cell_type": "code",
   "execution_count": 15,
   "metadata": {},
   "outputs": [],
   "source": [
    "json_file = open('model.json', 'r')\n",
    "loaded_model_json = json_file.read()\n",
    "json_file.close()"
   ]
  },
  {
   "cell_type": "code",
   "execution_count": 16,
   "metadata": {},
   "outputs": [
    {
     "name": "stdout",
     "output_type": "stream",
     "text": [
      "Loaded model from disk\n"
     ]
    }
   ],
   "source": [
    "model = model_from_json(loaded_model_json)\n",
    "model.load_weights(\"model.h5\")\n",
    "print(\"Loaded model from disk\")"
   ]
  },
  {
   "cell_type": "code",
   "execution_count": 17,
   "metadata": {},
   "outputs": [
    {
     "name": "stdout",
     "output_type": "stream",
     "text": [
      "24/24 [==============================] - 0s 2ms/step\n"
     ]
    }
   ],
   "source": [
    "import numpy as np\n",
    "predictions = np.argmax(model.predict(x), axis=1)\n",
    "\n"
   ]
  },
  {
   "cell_type": "code",
   "execution_count": 20,
   "metadata": {},
   "outputs": [
    {
     "name": "stdout",
     "output_type": "stream",
     "text": [
      "[3.0, 126.0, 88.0, 41.0, 235.0, 39.3, 0.704, 27.0] => 0 (Original Class: 0)\n",
      "[8.0, 99.0, 84.0, 0.0, 0.0, 35.4, 0.388, 50.0] => 0 (Original Class: 0)\n",
      "[7.0, 196.0, 90.0, 0.0, 0.0, 39.8, 0.451, 41.0] => 0 (Original Class: 1)\n",
      "[9.0, 119.0, 80.0, 35.0, 0.0, 29.0, 0.263, 29.0] => 0 (Original Class: 1)\n",
      "[11.0, 143.0, 94.0, 33.0, 146.0, 36.6, 0.254, 51.0] => 0 (Original Class: 1)\n"
     ]
    }
   ],
   "source": [
    "for i in range(20,25):\n",
    "\tprint('%s => %d (Original Class: %d)' % (x[i].tolist(), predictions[i], y[i]))"
   ]
  }
 ],
 "metadata": {
  "kernelspec": {
   "display_name": "Python 3",
   "language": "python",
   "name": "python3"
  },
  "language_info": {
   "codemirror_mode": {
    "name": "ipython",
    "version": 3
   },
   "file_extension": ".py",
   "mimetype": "text/x-python",
   "name": "python",
   "nbconvert_exporter": "python",
   "pygments_lexer": "ipython3",
   "version": "3.8.5"
  }
 },
 "nbformat": 4,
 "nbformat_minor": 4
}
